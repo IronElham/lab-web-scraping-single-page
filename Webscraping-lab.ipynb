{
 "cells": [
  {
   "cell_type": "code",
   "execution_count": 1,
   "id": "36dae12d-149c-45b8-acea-dc0b93c100c7",
   "metadata": {},
   "outputs": [],
   "source": [
    "#libraries\n",
    "import pandas as pd\n",
    "from bs4 import BeautifulSoup\n",
    "import requests \n",
    "import os\n",
    "from IPython.display import Image"
   ]
  },
  {
   "cell_type": "code",
   "execution_count": 2,
   "id": "1d116046-f15e-4221-93ed-df60a835755f",
   "metadata": {},
   "outputs": [],
   "source": [
    "#settings\n",
    "pd.set_option('display.max_column', None)\n",
    "import warnings \n",
    "warnings.filterwarnings('ignore')"
   ]
  },
  {
   "cell_type": "code",
   "execution_count": 3,
   "id": "d28680f5-6058-40a6-a7bb-5979b3343bc1",
   "metadata": {},
   "outputs": [],
   "source": [
    "url='https://www.billboard.com/charts/hot-100/'"
   ]
  },
  {
   "cell_type": "code",
   "execution_count": 4,
   "id": "856189c1-ea47-4b2a-b480-41f2cea08b66",
   "metadata": {},
   "outputs": [
    {
     "data": {
      "text/plain": [
       "200"
      ]
     },
     "execution_count": 4,
     "metadata": {},
     "output_type": "execute_result"
    }
   ],
   "source": [
    "# 200 status code? Yes\n",
    "response = requests.get(url)\n",
    "response.status_code "
   ]
  },
  {
   "cell_type": "code",
   "execution_count": 5,
   "id": "730ab575-3216-4cdc-bc7a-e7be436b0181",
   "metadata": {},
   "outputs": [],
   "source": [
    "html = response.text\n",
    "soup = BeautifulSoup(html, 'html.parser')\n",
    "#soup()"
   ]
  },
  {
   "cell_type": "code",
   "execution_count": 6,
   "id": "77b83cd2-a7dd-4db6-a7f6-e004412edf77",
   "metadata": {},
   "outputs": [],
   "source": [
    "#print(soup.prettify())"
   ]
  },
  {
   "cell_type": "code",
   "execution_count": 7,
   "id": "8009d73c-adde-4e20-8318-acb9f07c7d45",
   "metadata": {},
   "outputs": [
    {
     "data": {
      "text/plain": [
       "'Billboard Hot 100™'"
      ]
     },
     "execution_count": 7,
     "metadata": {},
     "output_type": "execute_result"
    }
   ],
   "source": [
    "title = soup.title.string\n",
    "title"
   ]
  },
  {
   "cell_type": "code",
   "execution_count": 26,
   "id": "a1d0f7e9-e92e-4a9f-a867-2e7acfe117e7",
   "metadata": {},
   "outputs": [
    {
     "data": {
      "text/plain": [
       "['A Bar Song (Tipsy)']"
      ]
     },
     "execution_count": 26,
     "metadata": {},
     "output_type": "execute_result"
    }
   ],
   "source": [
    "#First try to extract the name of the song returned the top row\n",
    "name=[]\n",
    "for element in soup.find_all(\"ul\", class_=\"o-chart-results-list-row // lrv-a-unstyle-list lrv-u-flex u-height-200 u-height-100@mobile-max u-height-100@tablet-only lrv-u-background-color-white a-chart-has-chart-detail\"):\n",
    "    name.append(element.li.find_next(\"h3\").get_text(strip=True))\n",
    "name"
   ]
  },
  {
   "cell_type": "code",
   "execution_count": 10,
   "id": "7ed220ae-eb90-4f04-9d40-19b5d97e05ba",
   "metadata": {},
   "outputs": [
    {
     "data": {
      "text/plain": [
       "['A Bar Song (Tipsy)Shaboozey11241124',\n",
       " 'I Had Some HelpPost Malone Featuring Morgan Wallen21202120']"
      ]
     },
     "execution_count": 10,
     "metadata": {},
     "output_type": "execute_result"
    }
   ],
   "source": [
    "# second try in extacting name of song and name of artist returned name of song and artist togther with excessive numerical data\n",
    "text=[]\n",
    "for element in soup.find_all(\"div\",class_=\"o-chart-results-list-row-container\"):\n",
    "    text.append(element.ul.find_next('ul').get_text(strip=True))\n",
    "text[0:2]"
   ]
  },
  {
   "cell_type": "code",
   "execution_count": 11,
   "id": "d2b2b460-8711-497c-9b03-c2545fb4c5c2",
   "metadata": {},
   "outputs": [
    {
     "data": {
      "text/plain": [
       "['A Bar Song (Tipsy)Shaboozey',\n",
       " 'I Had Some HelpPost Malone Featuring Morgan Wallen']"
      ]
     },
     "execution_count": 11,
     "metadata": {},
     "output_type": "execute_result"
    }
   ],
   "source": [
    "song_list = []\n",
    "\n",
    "for element in soup.find_all(\"div\", class_=\"o-chart-results-list-row-container\"):\n",
    "    song_text = element.ul.find_next('ul').get_text(strip=True)\n",
    "    cleaned_text = ''.join([i for i in song_text if not i.isdigit()])  # to removes digits at the end of the string\n",
    "    song_list.append(cleaned_text)\n",
    "\n",
    "song_list[0:2]   "
   ]
  },
  {
   "cell_type": "code",
   "execution_count": 16,
   "id": "aec62c90-6285-4e76-ba1b-aeb9397ea7b5",
   "metadata": {},
   "outputs": [],
   "source": [
    "import re\n",
    "song_dict = {}\n",
    "\n",
    "for song in song_list:\n",
    "    # to separate the song name and artist name use a regular expression to find the first place lowercase become uppercase\n",
    "    match = re.search(r'([a-z\\)])([A-Z])', song)\n",
    "    \n",
    "    if match: #to split song name and artist name\n",
    "        split_index = match.end(1)  # position where the artist starts\n",
    "        song_title = song[:split_index].strip()  # extract song title up to the transition\n",
    "        artist = song[split_index:].strip()  # artist after the transition\n",
    "        song_dict[song_title] = artist\n",
    "#song_dict"
   ]
  },
  {
   "cell_type": "code",
   "execution_count": 18,
   "id": "0cd3ee63-c4f4-4a3e-8848-4f80fecc3197",
   "metadata": {},
   "outputs": [
    {
     "data": {
      "text/html": [
       "<div>\n",
       "<style scoped>\n",
       "    .dataframe tbody tr th:only-of-type {\n",
       "        vertical-align: middle;\n",
       "    }\n",
       "\n",
       "    .dataframe tbody tr th {\n",
       "        vertical-align: top;\n",
       "    }\n",
       "\n",
       "    .dataframe thead th {\n",
       "        text-align: right;\n",
       "    }\n",
       "</style>\n",
       "<table border=\"1\" class=\"dataframe\">\n",
       "  <thead>\n",
       "    <tr style=\"text-align: right;\">\n",
       "      <th></th>\n",
       "      <th>Song Title</th>\n",
       "      <th>Artist</th>\n",
       "    </tr>\n",
       "  </thead>\n",
       "  <tbody>\n",
       "    <tr>\n",
       "      <th>0</th>\n",
       "      <td>A Bar Song (Tipsy)</td>\n",
       "      <td>Shaboozey</td>\n",
       "    </tr>\n",
       "    <tr>\n",
       "      <th>1</th>\n",
       "      <td>I Had Some Help</td>\n",
       "      <td>Post Malone Featuring Morgan Wallen</td>\n",
       "    </tr>\n",
       "    <tr>\n",
       "      <th>2</th>\n",
       "      <td>Espresso</td>\n",
       "      <td>Sabrina Carpenter</td>\n",
       "    </tr>\n",
       "    <tr>\n",
       "      <th>3</th>\n",
       "      <td>Die With A Smile</td>\n",
       "      <td>Lady Gaga &amp; Bruno Mars</td>\n",
       "    </tr>\n",
       "    <tr>\n",
       "      <th>4</th>\n",
       "      <td>Birds Of A Feather</td>\n",
       "      <td>Billie Eilish</td>\n",
       "    </tr>\n",
       "    <tr>\n",
       "      <th>...</th>\n",
       "      <td>...</td>\n",
       "      <td>...</td>\n",
       "    </tr>\n",
       "    <tr>\n",
       "      <th>87</th>\n",
       "      <td>Diet Pepsi</td>\n",
       "      <td>Addison Rae</td>\n",
       "    </tr>\n",
       "    <tr>\n",
       "      <th>88</th>\n",
       "      <td>Coincidence</td>\n",
       "      <td>Sabrina Carpenter</td>\n",
       "    </tr>\n",
       "    <tr>\n",
       "      <th>89</th>\n",
       "      <td>Passport Junkie</td>\n",
       "      <td>Rod Wave</td>\n",
       "    </tr>\n",
       "    <tr>\n",
       "      <th>90</th>\n",
       "      <td>Circadian Rhythm</td>\n",
       "      <td>Drake</td>\n",
       "    </tr>\n",
       "    <tr>\n",
       "      <th>91</th>\n",
       "      <td>Sharpest Tool</td>\n",
       "      <td>Sabrina Carpenter</td>\n",
       "    </tr>\n",
       "  </tbody>\n",
       "</table>\n",
       "<p>92 rows × 2 columns</p>\n",
       "</div>"
      ],
      "text/plain": [
       "            Song Title                               Artist\n",
       "0   A Bar Song (Tipsy)                            Shaboozey\n",
       "1      I Had Some Help  Post Malone Featuring Morgan Wallen\n",
       "2             Espresso                    Sabrina Carpenter\n",
       "3     Die With A Smile               Lady Gaga & Bruno Mars\n",
       "4   Birds Of A Feather                        Billie Eilish\n",
       "..                 ...                                  ...\n",
       "87          Diet Pepsi                          Addison Rae\n",
       "88         Coincidence                    Sabrina Carpenter\n",
       "89     Passport Junkie                             Rod Wave\n",
       "90    Circadian Rhythm                                Drake\n",
       "91       Sharpest Tool                    Sabrina Carpenter\n",
       "\n",
       "[92 rows x 2 columns]"
      ]
     },
     "execution_count": 18,
     "metadata": {},
     "output_type": "execute_result"
    }
   ],
   "source": [
    "df1 = pd.DataFrame(list(song_dict.items()), columns=['Song Title', 'Artist'])\n",
    "df1"
   ]
  },
  {
   "cell_type": "code",
   "execution_count": null,
   "id": "a7bea4f2-e3ab-4523-9049-8a694e4292ee",
   "metadata": {},
   "outputs": [],
   "source": [
    "# Another solution shared in class using attribute\n",
    "song_titles=[]\n",
    "for element in soup.find_all(attrs={'class':'o-chart-results-list-row-container'}):\n",
    "    song_titles.append(element.h3.get_text(strip=True))"
   ]
  },
  {
   "cell_type": "code",
   "execution_count": null,
   "id": "5281411c-b35d-4925-836a-66aee4efd929",
   "metadata": {},
   "outputs": [],
   "source": [
    "#shared in class\n",
    "band_name=[]\n",
    "for element in soup.find_all(attrs={'class':'o-chart-results-list-row-container'}):\n",
    "    band_name.append(element.h3.find_next('span').get_text(strip=True))"
   ]
  }
 ],
 "metadata": {
  "kernelspec": {
   "display_name": "Python 3 (ipykernel)",
   "language": "python",
   "name": "python3"
  },
  "language_info": {
   "codemirror_mode": {
    "name": "ipython",
    "version": 3
   },
   "file_extension": ".py",
   "mimetype": "text/x-python",
   "name": "python",
   "nbconvert_exporter": "python",
   "pygments_lexer": "ipython3",
   "version": "3.12.4"
  }
 },
 "nbformat": 4,
 "nbformat_minor": 5
}
